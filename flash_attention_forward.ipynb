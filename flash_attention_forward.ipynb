{
 "cells": [
  {
   "cell_type": "code",
   "execution_count": 1,
   "id": "0a73c3c4-1991-4107-9eba-fcf7f28a4fb3",
   "metadata": {},
   "outputs": [
    {
     "data": {
      "text/plain": [
       "True"
      ]
     },
     "execution_count": 1,
     "metadata": {},
     "output_type": "execute_result"
    }
   ],
   "source": [
    "import numpy as np\n",
    "\n",
    "def softmax(x):\n",
    "    e_x = np.exp(x - np.max(x, axis=-1, keepdims=True))\n",
    "    return e_x / np.sum(e_x, axis=-1, keepdims=True)\n",
    "\n",
    "def compute_attention(Q, K, V):\n",
    "    attention_scores = np.matmul(Q, K.T)\n",
    "    attention_weights = softmax(attention_scores)\n",
    "    O = np.matmul(attention_weights, V)\n",
    "    return O\n",
    "\n",
    "\n",
    "N = 512  \n",
    "d = 64   \n",
    "\n",
    "Q = np.random.randn(N, d)\n",
    "K = np.random.randn(N, d)\n",
    "V = np.random.randn(N, d)\n",
    "\n",
    "\n",
    "O_standard = compute_attention(Q, K, V)\n",
    "\n",
    "\n",
    "def flash_attention_modified(Q, K, V, on_chip_memory_size):\n",
    "    B_c = on_chip_memory_size // (4 * d)  # Using 4 bytes per float\n",
    "    B_r = min(on_chip_memory_size // (4 * d), d)\n",
    "    O = np.zeros((N, d))\n",
    "    m = -np.inf * np.ones(N)\n",
    "    T_r = int(np.ceil(N / B_r))\n",
    "    T_c = int(np.ceil(N / B_c))\n",
    "    l = np.zeros(N)\n",
    "    \n",
    "    for j in range(T_c):\n",
    "        K_j = K[j * B_c:(j + 1) * B_c]\n",
    "        V_j = V[j * B_c:(j + 1) * B_c]\n",
    "        \n",
    "        for i in range(T_r):\n",
    "            Q_i = Q[i * B_r:(i + 1) * B_r]\n",
    "            m_i = m[i * B_r:(i + 1) * B_r]\n",
    "            l_i = l[i * B_r:(i + 1) * B_r]\n",
    "            O_i = O[i * B_r:(i + 1) * B_r]\n",
    "            \n",
    "            # Line 8\n",
    "            S_ij = np.dot(Q_i, K_j.T)\n",
    "            assert S_ij.shape == (B_r, B_c)\n",
    "            \n",
    "            # Line 9\n",
    "            m_ij = np.max(S_ij, axis=1)\n",
    "            P_ij = np.exp(S_ij - m_ij[:, np.newaxis])\n",
    "            l_ij = np.sum(P_ij, axis=1)\n",
    "            assert m_ij.shape == (B_r,)\n",
    "            assert P_ij.shape == (B_r, B_c)\n",
    "            assert l_ij.shape == (B_r,)\n",
    "            \n",
    "            # Line 10\n",
    "            m_new = np.maximum(m_i, m_ij)\n",
    "            l_new = np.exp(m_i - m_new) * l_i + np.exp(m_ij - m_new) * l_ij\n",
    "            assert m_new.shape == (B_r,)\n",
    "            assert l_new.shape == (B_r,)\n",
    "        \n",
    "            O[i * B_r:(i + 1) * B_r] = np.linalg.inv(np.diag(l_new)) @ ((np.diag(l_i) * np.exp(m_i - m_new) @ O_i) + (np.exp(m_ij - m_new) * np.dot(P_ij, V_j)))\n",
    "            \n",
    "            m[i * B_r:(i + 1) * B_r] = m_new\n",
    "            l[i * B_r:(i + 1) * B_r] = l_new\n",
    "            \n",
    "    return O\n",
    "\n",
    "M = N * d * 4  \n",
    "O_flash = flash_attention_modified(Q, K, V, M)\n",
    "\n",
    "np.allclose(O_standard, O_flash)\n"
   ]
  },
  {
   "cell_type": "code",
   "execution_count": null,
   "id": "029781d4-ec3a-43be-b6f6-38989bc57d77",
   "metadata": {},
   "outputs": [],
   "source": []
  }
 ],
 "metadata": {
  "kernelspec": {
   "display_name": "Python 3 (ipykernel)",
   "language": "python",
   "name": "python3"
  },
  "language_info": {
   "codemirror_mode": {
    "name": "ipython",
    "version": 3
   },
   "file_extension": ".py",
   "mimetype": "text/x-python",
   "name": "python",
   "nbconvert_exporter": "python",
   "pygments_lexer": "ipython3",
   "version": "3.8.13"
  }
 },
 "nbformat": 4,
 "nbformat_minor": 5
}
