{
 "cells": [
  {
   "cell_type": "code",
   "execution_count": 6,
   "id": "658bbecb-cf15-4a38-b5c2-74ee9777e90f",
   "metadata": {},
   "outputs": [
    {
     "data": {
      "text/plain": [
       "True"
      ]
     },
     "execution_count": 6,
     "metadata": {},
     "output_type": "execute_result"
    }
   ],
   "source": [
    "import numpy as np\n",
    "\n",
    "def softmax(x):\n",
    "    e_x = np.exp(x - np.max(x, axis=-1, keepdims=True))\n",
    "    return e_x / np.sum(e_x, axis=-1, keepdims=True)\n",
    "\n",
    "def compute_attention(Q, K, V):\n",
    "    attention_scores = np.matmul(Q, K.T)\n",
    "    attention_weights = softmax(attention_scores)\n",
    "    O = np.matmul(attention_weights, V)\n",
    "    return O\n",
    "\n",
    "\n",
    "N = 512  \n",
    "d = 64   \n",
    "\n",
    "Q = np.random.randn(N, d)\n",
    "K = np.random.randn(N, d)\n",
    "V = np.random.randn(N, d)\n",
    "\n",
    "\n",
    "O_standard = compute_attention(Q, K, V)\n",
    "\n",
    "\n",
    "def flash_attention(Q, K, V, on_chip_memory_size):\n",
    "    B_c = on_chip_memory_size // (4 * d)  # Using 4 bytes per float\n",
    "    B_r = min(on_chip_memory_size // (4 * d), d)\n",
    "    O = np.zeros((N, d))\n",
    "    m = -np.inf * np.ones(N)\n",
    "    T_r = int(np.ceil(N / B_r))\n",
    "    T_c = int(np.ceil(N / B_c))\n",
    "    for j in range(T_c):\n",
    "        K_j = K[j * B_c:(j + 1) * B_c]\n",
    "        V_j = V[j * B_c:(j + 1) * B_c]\n",
    "        for i in range(T_r):\n",
    "            Q_i = Q[i * B_r:(i + 1) * B_r]\n",
    "            m_i = m[i * B_r:(i + 1) * B_r]\n",
    "            S_ij = np.dot(Q_i, K_j.T)\n",
    "            m_ij = np.max(S_ij, axis=1)\n",
    "            m_new = np.maximum(m_i, m_ij)\n",
    "            S_ij -= m_new[:, np.newaxis]\n",
    "            P_ij = np.exp(S_ij)\n",
    "            P_ij /= P_ij.sum(axis=1, keepdims=True)\n",
    "            O[i * B_r:(i + 1) * B_r] += np.dot(P_ij, V_j)\n",
    "            m[i * B_r:(i + 1) * B_r] = m_new\n",
    "    return O\n",
    "\n",
    "M = N * d * 4 * 10  \n",
    "O_flash = flash_attention(Q, K, V, M)\n",
    "\n",
    "np.allclose(O_standard, O_flash)\n"
   ]
  },
  {
   "cell_type": "code",
   "execution_count": null,
   "id": "ad1e2544-5f31-41c0-a120-20c9c0a359f7",
   "metadata": {},
   "outputs": [],
   "source": []
  },
  {
   "cell_type": "code",
   "execution_count": null,
   "id": "06ed7251-a83b-45f0-99f6-d3be77455e55",
   "metadata": {},
   "outputs": [],
   "source": []
  }
 ],
 "metadata": {
  "kernelspec": {
   "display_name": "Python 3 (ipykernel)",
   "language": "python",
   "name": "python3"
  },
  "language_info": {
   "codemirror_mode": {
    "name": "ipython",
    "version": 3
   },
   "file_extension": ".py",
   "mimetype": "text/x-python",
   "name": "python",
   "nbconvert_exporter": "python",
   "pygments_lexer": "ipython3",
   "version": "3.8.13"
  }
 },
 "nbformat": 4,
 "nbformat_minor": 5
}
